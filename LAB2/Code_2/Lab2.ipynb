{
 "cells": [
  {
   "cell_type": "markdown",
   "metadata": {},
   "source": [
    "# Лабораторная 2"
   ]
  },
  {
   "cell_type": "markdown",
   "metadata": {},
   "source": [
    "## AND and OR operators\n",
    "\n",
    "**Stochastic gradient**"
   ]
  },
  {
   "cell_type": "code",
   "execution_count": 2,
   "metadata": {},
   "outputs": [
    {
     "name": "stdout",
     "output_type": "stream",
     "text": [
      "[0 0]: -1.3979415134794428 -> 0\n",
      "[0 1]: -0.3457758616183546 -> 0\n",
      "[1 0]: -0.5570482771101037 -> 0\n",
      "[1 1]: 0.4951173747509845 -> 1\n",
      "WEIGHT bias: 0.8408932363693391  w1: 1.0521656518610882  w2:-1.3979415134794428\n"
     ]
    },
    {
     "data": {
      "image/png": "[encoded data removed]",
      "text/plain": [
       "<matplotlib.figure.Figure at 0x7fca6e66e978>"
      ]
     },
     "metadata": {},
     "output_type": "display_data"
    },
    {
     "name": "stdout",
     "output_type": "stream",
     "text": [
      "[0 0]: -0.19676143104556265 -> 0\n",
      "[0 1]: 0.5174289698278746 -> 1\n",
      "[1 0]: 0.6489458856046643 -> 1\n",
      "[1 1]: 1.3631362864781016 -> 1\n",
      "WEIGHT bias: 0.8457073166502269  w1: 0.7141904008734372  w2:-0.19676143104556265\n"
     ]
    },
    {
     "data": {
      "image/png": "[encoded data removed]",
      "text/plain": [
       "<matplotlib.figure.Figure at 0x7fca86777208>"
      ]
     },
     "metadata": {},
     "output_type": "display_data"
    }
   ],
   "source": [
    "from random import choice\n",
    "from numpy import array, dot, random\n",
    "import matplotlib.pyplot as plt\n",
    "\n",
    "unit_step = lambda x: 0 if x < 0 else 1\n",
    "\n",
    "training_data_or = [\n",
    "    (array([0, 0, 1]), 0),\n",
    "    (array([0, 1, 1]), 1),\n",
    "    (array([1, 0, 1]), 1),\n",
    "    (array([1, 1, 1]), 1),\n",
    "]\n",
    "\n",
    "training_data_and = [\n",
    "    (array([0, 0, 1]), 0),\n",
    "    (array([0, 1, 1]), 0),\n",
    "    (array([1, 0, 1]), 0),\n",
    "    (array([1, 1, 1]), 1),\n",
    "]\n",
    "\n",
    "\n",
    "\n",
    "input = array([ [0,0],\n",
    "            [0,1],\n",
    "            [1,0],\n",
    "            [1,1]\n",
    "          ])\n",
    "\n",
    "\n",
    "\n",
    "def calc(training_data):\n",
    "    w = random.rand(3)\n",
    "    errors = []\n",
    "    eta = 0.5\n",
    "    n = 100\n",
    "\n",
    "    for i in range(n):\n",
    "        x, expected = choice(training_data)\n",
    "        result = dot(w, x)\n",
    "        error = expected - unit_step(result)\n",
    "        errors.append(error)\n",
    "        w += eta * error * x\n",
    "\n",
    "    for x, _ in training_data:\n",
    "        result = dot(x, w)\n",
    "        print(\"{}: {} -> {}\".format(x[:2], result, unit_step(result)))\n",
    "    print(\"WEIGHT bias: {}  w1: {}  w2:{}\".format(w[0], w[1], w[2]))\n",
    "\n",
    "    plt.style.use('ggplot')\n",
    "\n",
    "    w2, w1, b = w\n",
    "    x = -b / w1\n",
    "    y = -b / w2\n",
    "\n",
    "    d = y\n",
    "    c = -y / x\n",
    "\n",
    "    line_x_coords = array([0, x])\n",
    "    line_y_coords = c * line_x_coords + d\n",
    "\n",
    "    plt.plot(line_x_coords, line_y_coords)\n",
    "    plt.plot(input[1:], input[:-1], 'o')\n",
    "    plt.axis([-1, 2, -1, 2])\n",
    "    plt.show()\n",
    "\n",
    "\n",
    "\n",
    "\n",
    "calc(training_data_and)\n",
    "calc(training_data_or)\n"
   ]
  },
  {
   "cell_type": "markdown",
   "metadata": {},
   "source": [
    "## XOR\n",
    "**Using Back Propagation**"
   ]
  },
  {
   "cell_type": "markdown",
   "metadata": {},
   "source": [
    "Network scheme like 2-3-1 and like 2-2-1"
   ]
  },
  {
   "cell_type": "code",
   "execution_count": 4,
   "metadata": {},
   "outputs": [
    {
     "name": "stdout",
     "output_type": "stream",
     "text": [
      "Scheme 2-3-1\n",
      "Hidden layer: \n",
      "[[ 0.75554693  4.47111251 -0.91605372]\n",
      " [ 0.81687129  4.51012895 -0.63039982]]\n",
      "Output layer: \n",
      "[[-6.17873463]\n",
      " [ 4.89133185]\n",
      " [ 1.28740278]]\n",
      "Z: \n",
      "[[1.31450406e-13]\n",
      " [1.00000000e+00]\n",
      " [1.00000000e+00]\n",
      " [3.08197912e-13]]\n",
      "\n",
      "Scheme 2-2-1\n",
      "Hidden layer: \n",
      "[[1.87283225 5.88445288]\n",
      " [1.87262915 5.87594347]]\n",
      "Output layer: \n",
      "[[-8.67702868]\n",
      " [ 8.53379884]]\n",
      "Z: \n",
      "[[-0.0716158 ]\n",
      " [ 0.98899793]\n",
      " [ 0.98899621]\n",
      " [ 0.05696599]]\n"
     ]
    }
   ],
   "source": [
    "import numpy as np\n",
    "\n",
    "\n",
    "def leanr_xor(scheme, epochs):\n",
    "    epochs = 20000  # Number of iterations\n",
    "    inputLayerSize, hiddenLayerSize, outputLayerSize = scheme\n",
    "    L = 0.1  # learning rate\n",
    "\n",
    "    X = np.array([[0, 0], [0, 1], [1, 0], [1, 1]])\n",
    "    Y = np.array([[0], [1], [1], [0]])\n",
    "\n",
    "    def sigmoid(x): return 1 / (1 + np.exp(-x))  # activation function\n",
    "\n",
    "    def sigmoid_(x): return x * (1 - x)  # derivative of sigmoid\n",
    "\n",
    "    # weights on layer inputs\n",
    "    Wh = np.random.uniform(size=(inputLayerSize, hiddenLayerSize))\n",
    "    Wz = np.random.uniform(size=(hiddenLayerSize, outputLayerSize))\n",
    "\n",
    "    for _ in range(epochs):\n",
    "        H = sigmoid(np.dot(X, Wh))  # hidden layer results\n",
    "        Z = np.dot(H, Wz)  # output layer, no activation\n",
    "        E = Y - Z  # error\n",
    "        dZ = E * L  # delta Z\n",
    "        Wz += H.T.dot(dZ)  # update output layer weights\n",
    "        dH = dZ.dot(Wz.T) * sigmoid_(H)  # delta H\n",
    "        Wh += X.T.dot(dH)  # update hidden layer weights\n",
    "\n",
    "    print('Hidden layer: \\n' + str(Wh))\n",
    "    print('Output layer: \\n' + str(Wz))\n",
    "\n",
    "    print('Z: \\n' + str(Z))\n",
    "\n",
    "\n",
    "print('Scheme 2-3-1')\n",
    "leanr_xor([2, 3, 1], 20000)\n",
    "\n",
    "print('\\nScheme 2-2-1')\n",
    "leanr_xor([2, 2, 1], 20000)"
   ]
  },
  {
   "cell_type": "markdown",
   "metadata": {},
   "source": [
    "**How it works:**\n",
    "Input + hidden layer"
   ]
  },
  {
   "attachments": {},
   "cell_type": "markdown",
   "metadata": {},
   "source": [
    "![image](https://i.imgur.com/1xoWvw0.png)"
   ]
  }
 ],
 "metadata": {
  "kernelspec": {
   "display_name": "Python 3",
   "language": "python",
   "name": "python3"
  },
  "language_info": {
   "codemirror_mode": {
    "name": "ipython",
    "version": 3
   },
   "file_extension": ".py",
   "mimetype": "text/x-python",
   "name": "python",
   "nbconvert_exporter": "python",
   "pygments_lexer": "ipython3",
   "version": "3.5.2"
  }
 },
 "nbformat": 4,
 "nbformat_minor": 2
}
